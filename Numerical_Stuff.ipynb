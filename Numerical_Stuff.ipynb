{
 "cells": [
  {
   "cell_type": "markdown",
   "metadata": {},
   "source": [
    "# 1.4"
   ]
  },
  {
   "cell_type": "markdown",
   "metadata": {},
   "source": [
    "# First Order Derivative with Central Difference Method\n",
    "\n",
    "### $$f'(x) = \\lim_{x \\to 0}\\frac{f(x+h) - f(x)}{h}\\\\ f'(x) = \\lim_{x \\to 0}\\frac{f(x) - f(x - h)}{h}\\\\\\text{if we add those two above we get:} \\\\ 2f'(x) = \\lim_{x \\to 0}\\frac{f(x+h) - f(x - h)}{h}\\\\ f'(x) = \\lim_{x \\to 0}\\frac{f(x+h) - f(x - h)}{2h}$$"
   ]
  },
  {
   "cell_type": "markdown",
   "metadata": {},
   "source": [
    "# Second Order Dervative With Central Difference Method\n",
    "\n",
    "### $$ y(x + h) = y(x) + hy'(x) + \\frac{h^2}{2}y''(x) + \\frac{h^3}{6}y'''(x) + \\frac{h^4}{24}y''''(x)\\\\ y(x - h) = y(x) - hy'(x) + \\frac{h^2}{2}y''(x) - \\frac{h^3}{6}y'''(x) + \\frac{h^4}{24}y''''(x)\\\\ y(x + h) + y(x - h) = 2y(x) + h^2y''(x) + \\frac{h^4}{12}y''''(x)\\\\ y''(x) = \\frac{y(x + h) + y(x - h) - 2y(x)}{h^2} + O $$"
   ]
  },
  {
   "cell_type": "code",
   "execution_count": 34,
   "metadata": {},
   "outputs": [],
   "source": [
    "import numpy as np\n",
    "\n",
    "F = lambda x: np.exp(x)\n",
    "cos = lambda x: np.cos(x)\n",
    "giga = lambda x: np.sin(np.exp(x))/np.exp(x)\n",
    "\n",
    "def central(func ,x ,h):\n",
    "    f = (func(x + h) - func(x-h))/(h*2)\n",
    "    return f\n",
    "a =  np.array([0.1,1,10,100])\n",
    "\n",
    "def central2(func, x ,h):\n",
    "    f2 = (func(x + h) + func(x-h) -2*func(x))/(h**2)\n",
    "    return f2"
   ]
  },
  {
   "cell_type": "code",
   "execution_count": 16,
   "metadata": {},
   "outputs": [],
   "source": [
    "central(F, x = a, h = 0.001)\n",
    "\n",
    "data = []\n",
    "\n",
    "for iter in range(4):\n",
    "    i = 0.1\n",
    "    i *= 10\n",
    "    relative_error = np.exp(i) - central(F, i, 0.0001)\n",
    "    data.append(relative_error)"
   ]
  },
  {
   "cell_type": "code",
   "execution_count": 20,
   "metadata": {},
   "outputs": [
    {
     "name": "stdout",
     "output_type": "stream",
     "text": [
      "[-0.0998334  -0.84147084  0.54402102  0.50636556]\n",
      "[-0.99500408 -0.54030226  0.83907146 -0.8623188 ]\n"
     ]
    }
   ],
   "source": [
    "print(central(cos, a,0.001))\n",
    "print(central2(cos, a, 0.001))"
   ]
  },
  {
   "cell_type": "code",
   "execution_count": 21,
   "metadata": {},
   "outputs": [
    {
     "data": {
      "text/plain": [
       "array([[1.00000000e+00, 1.00000000e+00],\n",
       "       [2.71828183e+00, 2.71828183e+00],\n",
       "       [7.38905610e+00, 7.38905611e+00],\n",
       "       [2.00855369e+01, 2.00855370e+01],\n",
       "       [5.45981500e+01, 5.45981501e+01],\n",
       "       [1.48413159e+02, 1.48413159e+02],\n",
       "       [4.03428793e+02, 4.03428794e+02],\n",
       "       [1.09663316e+03, 1.09663316e+03],\n",
       "       [2.98095799e+03, 2.98095799e+03],\n",
       "       [8.10308393e+03, 8.10308394e+03],\n",
       "       [2.20264658e+04, 2.20264658e+04],\n",
       "       [5.98741417e+04, 5.98741418e+04]])"
      ]
     },
     "execution_count": 21,
     "metadata": {},
     "output_type": "execute_result"
    }
   ],
   "source": [
    "np.transpose([np.exp(np.arange(0,12,1)),central(F, np.arange(0,12,1),0.0001)])"
   ]
  },
  {
   "cell_type": "code",
   "execution_count": 22,
   "metadata": {},
   "outputs": [
    {
     "data": {
      "text/plain": [
       "array([[-0.98684746, -0.99501118],\n",
       "       [-0.53587309, -0.5403077 ],\n",
       "       [ 0.83219311,  0.83907878],\n",
       "       [-0.85524988, -0.86231903]])"
      ]
     },
     "execution_count": 22,
     "metadata": {},
     "output_type": "execute_result"
    }
   ],
   "source": [
    "np.transpose([central2(cos, a, np.pi/10), central2(cos, a, np.pi/1000000)])"
   ]
  },
  {
   "cell_type": "code",
   "execution_count": 23,
   "metadata": {},
   "outputs": [
    {
     "data": {
      "text/plain": [
       "array([[-0.99500417, -0.99501118],\n",
       "       [-0.54030231, -0.5403077 ],\n",
       "       [ 0.83907153,  0.83907878],\n",
       "       [-0.86231887, -0.86231903]])"
      ]
     },
     "execution_count": 23,
     "metadata": {},
     "output_type": "execute_result"
    }
   ],
   "source": [
    "np.transpose([-np.cos(a), central2(cos, a, np.pi/1000000)])"
   ]
  },
  {
   "cell_type": "markdown",
   "metadata": {},
   "source": [
    "# 1.5 "
   ]
  },
  {
   "cell_type": "markdown",
   "metadata": {},
   "source": [
    "# $$ \\textbf{Riemann Sums}$$\n",
    "\n",
    "### Riemann sum calculates the area below the integral by putting rectangles all around the above as you can guess does rectangles sometimes overestimates sometimes underestimates.\n",
    "### The interval [a, b] is therefore divided into {\\displaystyle n}n subintervals, each of length:\n",
    "### Starting point of thoose rectangles are a, a + $\\Delta x$, a + 2 $\\Delta x $, ... + a + (n - 1)$\\Delta x$ , b\n",
    "\n",
    "## $$ \\Delta x = \\frac{b - a}{n} $$\n",
    "### At one point ractangles will touch the graph and that will slightly change the result they can touch the graph from left or right thoose are called as Right Riemann Sum and Left Riemann Sum.\n",
    "\n",
    "## $$ A_{Left} = \\Delta x[f(a) + f(a +  \\Delta x) + f(a +  2\\Delta x) + ... + f(b - \\Delta x)] $$\n",
    "## $$ A_{Right} = \\Delta x[f(a +  \\Delta x) + f(a +  2\\Delta x) + ... + f(b)] $$\n",
    "\n",
    "### We could also try to calculate stuff with setting the rectangles touch the graph on the middle of their top that would create something like this:\n",
    "\n",
    "## $$A_{Mid} = \\Delta x[f(a +  \\frac{\\Delta x}{2}) + f(a +  \\frac{3\\Delta x}{2}) + ... + f(b - \\frac{\\Delta x}{2})] $$"
   ]
  },
  {
   "cell_type": "code",
   "execution_count": 24,
   "metadata": {},
   "outputs": [
    {
     "name": "stdout",
     "output_type": "stream",
     "text": [
      "22025.454782075634\n",
      "22025.46579251068\n"
     ]
    }
   ],
   "source": [
    "from turtle import width\n",
    "\n",
    "\n",
    "def U(x):\n",
    "    return np.exp(x)\n",
    "\n",
    "\n",
    "def riemann(func,lower_bound, upper_bound, step_size):\n",
    "    integral = 0\n",
    "    area = func*step_size\n",
    "    integral = integral + area\n",
    "    print(np.sum(integral))\n",
    "\n",
    "riemann(U(np.arange(0,10,0.000001)),0,10,0.000001)\n",
    "\n",
    "def mid_riemann(func, lower_bound, upper_bound, step_size):\n",
    "    x = lower_bound + 0.5*step_size\n",
    "    integral = 0\n",
    "    while (x < upper_bound):\n",
    "        area = func(x)*step_size\n",
    "        integral += area\n",
    "        x = x +step_size\n",
    "    print(integral)\n",
    "\n",
    "mid_riemann(F, 0, 10, 0.000001)\n",
    "\n",
    "\n",
    "\n",
    "\n"
   ]
  },
  {
   "cell_type": "markdown",
   "metadata": {},
   "source": [
    "# $$ \\textbf{Trapezoidal Rule For Integration} $$\n",
    "\n",
    "### The trapezoidal rule works by approximating the region under the graph of the function f(x) as a trapezoid and calculating its area. And of course we know area of a trapezoid is $\\frac{Height_{1} + Height_{2}}{2} \\Delta x $\n",
    "\n",
    "## $$ \\int_{a}^{b} f(x) \\,dx \\approx   \\sum_{k=1}^{N} \\frac{f(x_{k - 1}) + f(x_{k})}{2} \\Delta x  $$\n",
    "## $$ \\Delta x = \\frac{b - a}{N} $$\n",
    "## $$ \\int_{a}^{b} f(x) \\,dx \\approx \\frac{\\Delta x}{2}(f(x_{0}) + 2f(x_{1}) + 2f(x_{2}) + 2f(x_{3}) + ... + 2f(x_{N - 1}) + 2f(x_{N})) $$ "
   ]
  },
  {
   "cell_type": "code",
   "execution_count": 39,
   "metadata": {},
   "outputs": [],
   "source": [
    "def trapezoid(func, lower_bound, upper_bound, N):\n",
    "    dx = (upper_bound - lower_bound)/N\n",
    "    area = 0\n",
    "    area += dx*func(lower_bound)/2\n",
    "    area += dx*func(upper_bound)/2\n",
    "    for j in range(0, N):\n",
    "        area += dx*func(lower_bound + j*dx)\n",
    "    return area"
   ]
  },
  {
   "cell_type": "code",
   "execution_count": 40,
   "metadata": {},
   "outputs": [
    {
     "data": {
      "text/plain": [
       "-0.5440111108848313"
      ]
     },
     "execution_count": 40,
     "metadata": {},
     "output_type": "execute_result"
    }
   ],
   "source": [
    "trapezoid(cos, 0, 10, 1000000)"
   ]
  },
  {
   "cell_type": "markdown",
   "metadata": {},
   "source": [
    "# $$\\textbf{Integrations With Monte Carlo Method}$$"
   ]
  },
  {
   "cell_type": "code",
   "execution_count": 54,
   "metadata": {},
   "outputs": [
    {
     "data": {
      "image/png": "[encoded data removed]",
      "text/plain": [
       "<Figure size 864x576 with 1 Axes>"
      ]
     },
     "metadata": {
      "needs_background": "light"
     },
     "output_type": "display_data"
    }
   ],
   "source": [
    "#Defining A complicated function that I want to integrate\n",
    "\n",
    "import numpy as np\n",
    "import matplotlib.pyplot as plt\n",
    "import scipy.integrate as integrate\n",
    "\n",
    "def R(x):\n",
    "    return np.sin(np.exp(x))/np.exp(x)\n",
    "\n",
    "\n",
    "x = np.arange(0,10,0.001)\n",
    "\n",
    "y = R(x)\n",
    "\n",
    "plt.figure(figsize = (12, 8))\n",
    "plt.plot(x, y, color = 'red' ,label='Autistic Integral')\n",
    "plt.title('Graph of  the Autistic Integral')\n",
    "plt.xlabel('x')\n",
    "plt.ylabel('y')\n",
    "plt.grid()\n",
    "plt.legend(loc='upper right')\n",
    "plt.show() \n"
   ]
  },
  {
   "cell_type": "code",
   "execution_count": 75,
   "metadata": {},
   "outputs": [],
   "source": [
    "#defining the solving algorithm\n",
    "\n",
    "def monte_int(x,y): \n",
    "    count = 0\n",
    "    int_area = 0\n",
    "    while count < 10**6:\n",
    "        x_monte = np.random.uniform(0,10)\n",
    "        int_area += R(x_monte)\n",
    "    \n",
    "        count += 1\n",
    "    return int_area/count*10\n"
   ]
  },
  {
   "cell_type": "code",
   "execution_count": 76,
   "metadata": {},
   "outputs": [
    {
     "data": {
      "text/plain": [
       "array([0.50208759, 0.50415121])"
      ]
     },
     "execution_count": 76,
     "metadata": {},
     "output_type": "execute_result"
    }
   ],
   "source": [
    "# Accuracy Checking\n",
    "\n",
    "np.transpose([monte_int(x, R(x)), trapezoid(giga,0,10,100000)])"
   ]
  },
  {
   "cell_type": "code",
   "execution_count": null,
   "metadata": {},
   "outputs": [],
   "source": []
  }
 ],
 "metadata": {
  "kernelspec": {
   "display_name": "Python 3.9.7 ('base')",
   "language": "python",
   "name": "python3"
  },
  "language_info": {
   "codemirror_mode": {
    "name": "ipython",
    "version": 3
   },
   "file_extension": ".py",
   "mimetype": "text/x-python",
   "name": "python",
   "nbconvert_exporter": "python",
   "pygments_lexer": "ipython3",
   "version": "3.9.7"
  },
  "orig_nbformat": 4,
  "vscode": {
   "interpreter": {
    "hash": "8543aeb3ed6b012f3ed36035677020b081add8a8541a0eaa4cba4b51625cb8da"
   }
  }
 },
 "nbformat": 4,
 "nbformat_minor": 2
}
